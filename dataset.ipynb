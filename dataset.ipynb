{
 "cells": [
  {
   "cell_type": "code",
   "execution_count": 1,
   "metadata": {},
   "outputs": [
    {
     "name": "stderr",
     "output_type": "stream",
     "text": [
      "/home/yuntaeyang_0629/anaconda3/envs/test_39/lib/python3.9/site-packages/tqdm/auto.py:21: TqdmWarning: IProgress not found. Please update jupyter and ipywidgets. See https://ipywidgets.readthedocs.io/en/stable/user_install.html\n",
      "  from .autonotebook import tqdm as notebook_tqdm\n"
     ]
    }
   ],
   "source": [
    "import datasets\n",
    "from datasets import load_dataset_builder, VerificationMode"
   ]
  },
  {
   "cell_type": "code",
   "execution_count": 2,
   "metadata": {},
   "outputs": [
    {
     "name": "stderr",
     "output_type": "stream",
     "text": [
      "/home/yuntaeyang_0629/anaconda3/envs/test_39/lib/python3.9/site-packages/datasets/load.py:922: FutureWarning: The repository for wmt_utils contains custom code which must be executed to correctly load the dataset. You can inspect the repository content at ./wmt_utils.py\n",
      "You can avoid this message in future by passing the argument `trust_remote_code=True`.\n",
      "Passing `trust_remote_code=True` will be mandatory to load this dataset from the next major release of `datasets`.\n",
      "  warnings.warn(\n"
     ]
    }
   ],
   "source": [
    "builder = load_dataset_builder(\n",
    "    './wmt_utils.py',\n",
    "    language_pair = ('fr', 'en'),\n",
    "    subsets = {\n",
    "        datasets.Split.TRAIN: [\"europarl_v7\", \"newscommentary_v10\"],\n",
    "        datasets.Split.VALIDATION: ['newstest2013'],\n",
    "        datasets.Split.TEST: ['newstest2014']\n",
    "    },\n",
    "\n",
    ")\n",
    "\n",
    "builder.download_and_prepare(verification_mode=VerificationMode.NO_CHECKS)\n",
    "\n",
    "dataset = builder.as_dataset()"
   ]
  },
  {
   "cell_type": "code",
   "execution_count": 17,
   "metadata": {},
   "outputs": [
    {
     "data": {
      "text/plain": [
       "DatasetDict({\n",
       "    train: Dataset({\n",
       "        features: ['translation'],\n",
       "        num_rows: 2201939\n",
       "    })\n",
       "    validation: Dataset({\n",
       "        features: ['translation'],\n",
       "        num_rows: 3000\n",
       "    })\n",
       "    test: Dataset({\n",
       "        features: ['translation'],\n",
       "        num_rows: 3003\n",
       "    })\n",
       "})"
      ]
     },
     "execution_count": 17,
     "metadata": {},
     "output_type": "execute_result"
    }
   ],
   "source": [
    "dataset"
   ]
  },
  {
   "cell_type": "code",
   "execution_count": 24,
   "metadata": {},
   "outputs": [],
   "source": [
    "def return_prompt_and_responses(samples):\n",
    "    samples['text']=\"###input: \" + samples['translation']['en'] + \"###instruction: Please translate the input English sentence into French\" + \"###output:\" + samples['translation']['fr']\n",
    "    return samples\n",
    "\n",
    "def return_prompt_and_responses_dpo(samples):\n",
    "  samples['prompt'] = samples[\"translation\"]['en']\n",
    "  samples['chosen'] = samples[\"translation\"]['fr']\n",
    "  samples[\"rejected\"] = samples[\"translation\"]['fr']\n",
    "  return samples\n",
    "\n",
    "def load_and_prepare_dataset(source_dataset, train_types, data_types):\n",
    "    if data_types==\"train\":\n",
    "        dataset=source_dataset['train']\n",
    "        original_columns = dataset.column_names\n",
    "    elif data_types==\"validation\":\n",
    "        dataset=source_dataset['validation']\n",
    "        original_columns = dataset.column_names\n",
    "    else:\n",
    "        dataset=source_dataset['test']\n",
    "        original_columns = dataset.column_names\n",
    "        \n",
    "    if train_types == \"lora_sftt\":\n",
    "      dataset = dataset.map(\n",
    "        return_prompt_and_responses\n",
    "        )\n",
    "      dataset = dataset.map( \n",
    "      batched=True,\n",
    "      remove_columns=original_columns\n",
    "      )\n",
    "    elif train_types == \"dpo\":\n",
    "      dataset = dataset.map(\n",
    "        return_prompt_and_responses_dpo\n",
    "        )\n",
    "      dataset = dataset.map( \n",
    "      batched=True,\n",
    "      remove_columns=original_columns\n",
    "      )\n",
    "    return dataset"
   ]
  },
  {
   "cell_type": "code",
   "execution_count": 25,
   "metadata": {},
   "outputs": [
    {
     "name": "stderr",
     "output_type": "stream",
     "text": [
      "Map: 100%|██████████| 3000/3000 [00:00<00:00, 5594.47 examples/s]\n",
      "Map: 100%|██████████| 3000/3000 [00:00<00:00, 36334.14 examples/s]\n"
     ]
    }
   ],
   "source": [
    "new_dataset = load_and_prepare_dataset(dataset,\"dpo\", \"validation\")"
   ]
  },
  {
   "cell_type": "code",
   "execution_count": null,
   "metadata": {},
   "outputs": [],
   "source": []
  }
 ],
 "metadata": {
  "kernelspec": {
   "display_name": "test_39",
   "language": "python",
   "name": "python3"
  },
  "language_info": {
   "codemirror_mode": {
    "name": "ipython",
    "version": 3
   },
   "file_extension": ".py",
   "mimetype": "text/x-python",
   "name": "python",
   "nbconvert_exporter": "python",
   "pygments_lexer": "ipython3",
   "version": "3.9.18"
  }
 },
 "nbformat": 4,
 "nbformat_minor": 2
}
